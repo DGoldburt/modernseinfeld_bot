{
 "cells": [
  {
   "cell_type": "markdown",
   "id": "b6de1fb3",
   "metadata": {},
   "source": [
    "## Introduction\n",
    "\n",
    "The idea is to have a twitter bot that allows users to tweet prompts @modernseinfeld_bot and receive a reply with the completion\n",
    "\n",
    "The Twitter API requires that all requests use OAuth to authenticate. Once you sign up for twitter's developer platform https://developer.twitter.com/ you will get the required authentication credentials to be able to use the API. These credentials are three text strings:\n",
    "\n",
    "- API key (token)\n",
    "- API secret\n",
    "- Bearer token\n",
    "\n",
    "I store these in the .env file of the main project directory. This file is never checked into GitHub (by means of the .ignore file). We use load_dotenv() to load the required keys into our notebook."
   ]
  },
  {
   "cell_type": "code",
   "execution_count": 89,
   "id": "e6b5a778",
   "metadata": {},
   "outputs": [
    {
     "name": "stdout",
     "output_type": "stream",
     "text": [
      "Requirement already satisfied: python-dotenv in /Users/dan/dev/miniconda3/lib/python3.9/site-packages (0.19.2)\r\n"
     ]
    }
   ],
   "source": [
    "import os\n",
    "!pip install python-dotenv\n",
    "from dotenv import load_dotenv\n",
    "load_dotenv(override=True)\n",
    "BEARER_TOKEN = os.getenv('TWITTER_BEARER_TOKEN')\n",
    "CONSUMER_KEY = os.getenv('TWITTER_API_KEY')\n",
    "CONSUMER_SECRET = os.getenv('TWITTER_API_SECRET')\n",
    "ACCESS_TOKEN = os.getenv('TWITTER_ACCESS_TOKEN')\n",
    "ACCESS_TOKEN_SECRET = os.getenv('TWITTER_ACCESS_TOKEN_SECRET')\n",
    "OPENAI_KEY = os.getenv(\"OPENAI_API_KEY\")\n",
    "FINE_TUNED_MODEL = \"curie:ft-personal-2022-02-16-02-07-10\""
   ]
  },
  {
   "cell_type": "code",
   "execution_count": 10,
   "id": "2807f4be",
   "metadata": {},
   "outputs": [
    {
     "name": "stdout",
     "output_type": "stream",
     "text": [
      "{\"data\":{\"id\":\"20\",\"text\":\"just setting up my twttr\"}}"
     ]
    }
   ],
   "source": [
    "!curl -X GET -H \"Authorization: Bearer {BEARER_TOKEN}\" \"https://api.twitter.com/2/tweets/20\""
   ]
  },
  {
   "cell_type": "code",
   "execution_count": null,
   "id": "f2264f3e",
   "metadata": {},
   "outputs": [],
   "source": [
    "!curl -X GET -H \"Authorization: Bearer {BEARER_TOKEN}\" \"https://api.twitter.com/2/tweets/20?expansions=author_id\""
   ]
  },
  {
   "cell_type": "code",
   "execution_count": 41,
   "id": "1a733ac9",
   "metadata": {},
   "outputs": [],
   "source": [
    "!pip -qq install tweepy"
   ]
  },
  {
   "cell_type": "code",
   "execution_count": 66,
   "id": "41a27b51",
   "metadata": {},
   "outputs": [],
   "source": [
    "import tweepy\n",
    "\n",
    "# In latest version of tweepy (which I can't seem to install) #print(tweepy.__version__)\n",
    "# there is a StreamingClient where you can add a rule\n",
    "# e.g. streaming_client.add_rules(tweepy.StreamRule(\"@SeinfeldPlotBot\"))\n",
    "# We will use polling and keep a checkpoint file\n",
    "# Also very important we will only be using Twitter API v2\n",
    "\n",
    "# To connect as the user\n",
    "client_user = tweepy.Client(\n",
    "    consumer_key=CONSUMER_KEY, consumer_secret=CONSUMER_SECRET,\n",
    "    access_token=ACCESS_TOKEN, access_token_secret=ACCESS_TOKEN_SECRET\n",
    ")\n",
    "# To connect as the app\n",
    "client_app = tweepy.Client(BEARER_TOKEN)"
   ]
  },
  {
   "cell_type": "code",
   "execution_count": 94,
   "id": "c171bb16",
   "metadata": {},
   "outputs": [],
   "source": [
    "!pip -qq install openai\n",
    "import openai\n",
    "def call_GPT3(prompt: str) -> str:\n",
    "    \"\"\"\\\n",
    "    Prompt our fine-tuned GPT-3 model and return the response.\n",
    "    \n",
    "    Args:\n",
    "        prompt (str): the prompt part of the answer\n",
    "    \n",
    "    Returns:\n",
    "        str: the prompt plus the completion from GPT3     \n",
    "    \"\"\"\n",
    "    openai.api_key = OPENAI_KEY\n",
    "    # We use same stop token from training\n",
    "    STOP_TOKEN = \" ##END##\"\n",
    "\n",
    "    # The fine tuned model is created by the fine tuning process above\n",
    "    completion = openai.Completion.create(\n",
    "        model=FINE_TUNED_MODEL,\n",
    "        prompt=prompt,\n",
    "        best_of = 8, #returns the \"best\" of 5 server-side completions (the one with the lowest log probability per token)\n",
    "        n=1,\n",
    "        max_tokens = 55)['choices'][0]\n",
    "    \n",
    "    return prompt + completion['text'].replace('\\t','',-1).replace(str(STOP_TOKEN),\"\",-1)"
   ]
  },
  {
   "cell_type": "code",
   "execution_count": 100,
   "id": "002f5adf",
   "metadata": {},
   "outputs": [],
   "source": [
    "def tweet_reply(text: str, tweet_id_to_reply: str) -> str:\n",
    "    \"\"\"\\\n",
    "    Reply to the mentioner with the text response.\n",
    "    \n",
    "    Args:\n",
    "        text (str): the text of the tweet\n",
    "        tweet_id_to_reply (str): the tweet to reply to\n",
    "    \n",
    "    Returns:\n",
    "        str: the id of the reply tweet      \n",
    "    \"\"\"\n",
    "    \n",
    "    response = client_user.create_tweet(\n",
    "        in_reply_to_tweet_id = tweet_id_to_reply,\n",
    "        text=text\n",
    "    )\n",
    "    return f\"https://twitter.com/user/status/{response.data['id']}\"\n",
    "    "
   ]
  },
  {
   "cell_type": "code",
   "execution_count": 85,
   "id": "d922d448",
   "metadata": {},
   "outputs": [
    {
     "name": "stdout",
     "output_type": "stream",
     "text": [
      "The SeinfeldPlotBot user_id is 1494776018313392130\n"
     ]
    }
   ],
   "source": [
    "# Get mentions of SeinfeldPlotBot\n",
    "user_id = client_app.get_user(username='SeinfeldPlotBot').data.id\n",
    "print(\"The SeinfeldPlotBot user_id is {}\".format(user_id))\n",
    "response = client.get_users_mentions(user_id, tweet_fields=[\"author_id\"])"
   ]
  },
  {
   "cell_type": "code",
   "execution_count": 103,
   "id": "925f9940",
   "metadata": {},
   "outputs": [
    {
     "name": "stdout",
     "output_type": "stream",
     "text": [
      "{'author_id': '1494776018313392130', 'id': '1496299981627707395', 'text': '@SeinfeldPlotBot test'}\n",
      "Replied with  test auditions for America's Next Top Model. Kramer tries to \"stunt,\" but his friend the limo driver leaks his identity. ## in this tweet: https://twitter.com/user/status/1496592947797794826\n"
     ]
    }
   ],
   "source": [
    "for tweet in response.data:\n",
    "    print(tweet.data)\n",
    "    prompt = tweet.data['text'].lstrip(\"@SeinfeldPlotBot\")\n",
    "    completion = call_GPT3(prompt)\n",
    "    response = tweet_reply(completion, tweet.data['id'])\n",
    "    print(f\"Replied with {completion} in this tweet: {response}\")"
   ]
  },
  {
   "cell_type": "code",
   "execution_count": null,
   "id": "2997b990",
   "metadata": {},
   "outputs": [],
   "source": []
  }
 ],
 "metadata": {
  "kernelspec": {
   "display_name": "Python 3",
   "language": "python",
   "name": "python3"
  },
  "language_info": {
   "codemirror_mode": {
    "name": "ipython",
    "version": 3
   },
   "file_extension": ".py",
   "mimetype": "text/x-python",
   "name": "python",
   "nbconvert_exporter": "python",
   "pygments_lexer": "ipython3",
   "version": "3.9.5"
  }
 },
 "nbformat": 4,
 "nbformat_minor": 5
}
