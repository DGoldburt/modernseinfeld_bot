{
 "cells": [
  {
   "cell_type": "markdown",
   "id": "296d8b9e",
   "metadata": {},
   "source": [
    "## Introduction\n",
    "\n",
    "The idea is to have a twitter bot that allows users to tweet prompts @modernseinfeld_bot and receive a reply with the completion\n",
    "\n",
    "The Twitter API requires that all requests use OAuth to authenticate. Once you sign up for twitter's developer platform https://developer.twitter.com/ you will get the required authentication credentials to be able to use the API. These credentials are three text strings:\n",
    "\n",
    "- API key (token)\n",
    "- API secret\n",
    "- Bearer token\n",
    "\n",
    "I store these in the .env file of the main project directory. This file is never checked into GitHub (by means of the .ignore file). We use load_dotenv() to load the required keys into our notebook."
   ]
  },
  {
   "cell_type": "code",
   "execution_count": 6,
   "id": "92c6ee7f",
   "metadata": {},
   "outputs": [
    {
     "name": "stdout",
     "output_type": "stream",
     "text": [
      "Requirement already satisfied: python-dotenv in /Users/dan/dev/miniconda3/lib/python3.9/site-packages (0.19.2)\r\n"
     ]
    }
   ],
   "source": [
    "import os\n",
    "!pip install python-dotenv\n",
    "from dotenv import load_dotenv\n",
    "load_dotenv(override=True)\n",
    "BEARER_TOKEN = os.getenv('TWITTER_BEARER_TOKEN')\n",
    "CONSUMER_KEY = os.getenv('TWITTER_API_KEY')\n",
    "CONSUMER_SECRET = os.getenv('TWITTER_API_SECRET')\n",
    "ACCESS_TOKEN = os.getenv('TWITTER_ACCESS_TOKEN')\n",
    "ACCESS_TOKEN_SECRET = os.getenv('TWITTER_ACCESS_TOKEN_SECRET')"
   ]
  },
  {
   "cell_type": "code",
   "execution_count": 10,
   "id": "274b01b8",
   "metadata": {},
   "outputs": [
    {
     "name": "stdout",
     "output_type": "stream",
     "text": [
      "{\"data\":{\"id\":\"20\",\"text\":\"just setting up my twttr\"}}"
     ]
    }
   ],
   "source": [
    "!curl -X GET -H \"Authorization: Bearer {BEARER_TOKEN}\" \"https://api.twitter.com/2/tweets/20\""
   ]
  },
  {
   "cell_type": "code",
   "execution_count": null,
   "id": "b1a98472",
   "metadata": {},
   "outputs": [],
   "source": [
    "!curl -X GET -H \"Authorization: Bearer {BEARER_TOKEN}\" \"https://api.twitter.com/2/tweets/20?expansions=author_id\""
   ]
  },
  {
   "cell_type": "code",
   "execution_count": 41,
   "id": "4b4e9bc9",
   "metadata": {},
   "outputs": [],
   "source": [
    "!pip -qq install tweepy"
   ]
  },
  {
   "cell_type": "code",
   "execution_count": 42,
   "id": "ec81a792",
   "metadata": {},
   "outputs": [],
   "source": [
    "import tweepy\n",
    "\n",
    "# In latest version of tweepy (which I can't seem to install) #print(tweepy.__version__)\n",
    "# there is a StreamingClient where you can add a rule\n",
    "# e.g. streaming_client.add_rules(tweepy.StreamRule(\"@SeinfeldPlotBot\"))\n",
    "# We will use polling and keep a checkpoint file\n",
    "# Also very important we will only be using Twitter API v2\n",
    "\n",
    "client = tweepy.Client(BEARER_TOKEN)\n",
    "id = client.get_user(username='SeinfeldPlotBot').data.id\n",
    "response = client.get_users_mentions(id)\n",
    "\n"
   ]
  },
  {
   "cell_type": "code",
   "execution_count": 43,
   "id": "dc1c2d8a",
   "metadata": {},
   "outputs": [
    {
     "name": "stdout",
     "output_type": "stream",
     "text": [
      "Response(data=[<Tweet id=1496299981627707395 text=@SeinfeldPlotBot test>], includes={}, errors=[], meta={'oldest_id': '1496299981627707395', 'newest_id': '1496299981627707395', 'result_count': 1})\n"
     ]
    }
   ],
   "source": [
    "print(response)"
   ]
  }
 ],
 "metadata": {
  "kernelspec": {
   "display_name": "Python 3",
   "language": "python",
   "name": "python3"
  },
  "language_info": {
   "codemirror_mode": {
    "name": "ipython",
    "version": 3
   },
   "file_extension": ".py",
   "mimetype": "text/x-python",
   "name": "python",
   "nbconvert_exporter": "python",
   "pygments_lexer": "ipython3",
   "version": "3.9.5"
  }
 },
 "nbformat": 4,
 "nbformat_minor": 5
}
