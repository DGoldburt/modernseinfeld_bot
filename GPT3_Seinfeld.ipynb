{
  "nbformat": 4,
  "nbformat_minor": 0,
  "metadata": {
    "colab": {
      "name": "GPT3 Seinfeld.ipynb",
      "provenance": [],
      "authorship_tag": "ABX9TyO+ugD4KN1Jmgs8oZnJHU8j"
    },
    "kernelspec": {
      "name": "python3",
      "display_name": "Python 3"
    },
    "language_info": {
      "name": "python"
    }
  },
  "cells": [
    {
      "cell_type": "code",
      "execution_count": null,
      "metadata": {
        "id": "cJLqvRfEunKx"
      },
      "outputs": [],
      "source": [
        ""
      ]
    },
    {
      "cell_type": "markdown",
      "source": [
        "# SECTION 1: Introduction\n",
        "\n",
        "Welcome to my NLP project using GPT-3 and Seinfeld. The goal is to allow the user to prompt GPT3 Seinfeld bot with a situation and have it respond with an AI-generated plot synopsis.\n",
        "\n",
        "Example:\n",
        "> Prompt: \"Trying to connect to WiFi\"  \n",
        "> Response: \"When the WiFi George usually steals suddenly has a password, he becomes addicted to trying to \"hack\" in. J: 'Just get your own!' G: 'NEVER' \"\n",
        "\n",
        "This example response is from the @ModernSeinfeld twitter feed.\n",
        "\n",
        "\n",
        "\n",
        "\n"
      ],
      "metadata": {
        "id": "6Ww_ZBkRuyGJ"
      }
    }
  ]
}