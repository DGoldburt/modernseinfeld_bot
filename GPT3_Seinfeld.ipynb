{
  "nbformat": 4,
  "nbformat_minor": 0,
  "metadata": {
    "colab": {
      "name": "GPT3 Seinfeld.ipynb",
      "provenance": [],
      "mount_file_id": "16xcsyKi8vCBHGntbHljNFp77ranRAG83",
      "authorship_tag": "ABX9TyMLfP4YFWnKfytVMOq0uUOc"
    },
    "kernelspec": {
      "name": "python3",
      "display_name": "Python 3"
    },
    "language_info": {
      "name": "python"
    }
  },
  "cells": [
    {
      "cell_type": "markdown",
      "source": [
        "# SECTION 1: Introduction\n",
        "\n",
        "Welcome to my NLP project using GPT-3 and Seinfeld data. The goal is to allow the user to prompt GPT3 Seinfeld bot with a situation and have it respond with an AI-generated plot synopsis.\n",
        "\n",
        "Example:\n",
        "> Prompt: \"Trying to connect to WiFi\"  \n",
        "> Response: \"When the WiFi George usually steals suddenly has a password, he becomes addicted to trying to \"hack\" in. J: 'Just get your own!' G: 'NEVER' \"\n",
        "(This example response is from the @ModernSeinfeld twitter feed.)\n"
      ],
      "metadata": {
        "id": "6Ww_ZBkRuyGJ"
      }
    },
    {
      "cell_type": "markdown",
      "source": [
        "\n",
        "# SECTION 2: Data\n",
        "\n",
        "The data used is:\n",
        "\n",
        "\n",
        "*   Seinfeld episodes synopsis\n",
        "*   @ModernSeinfeld tweets\n",
        "*   Curb Your Enthusiasm episode synopsis\n"
      ],
      "metadata": {
        "id": "zmRjTL4myYC2"
      }
    },
    {
      "cell_type": "code",
      "source": [
        "pip install openai"
      ],
      "metadata": {
        "colab": {
          "base_uri": "https://localhost:8080/",
          "height": 562
        },
        "id": "83NW3EbHyblr",
        "outputId": "0a5135a5-1896-483c-b8ab-b650cfb1eca2"
      },
      "execution_count": 4,
      "outputs": [
        {
          "output_type": "stream",
          "name": "stdout",
          "text": [
            "Collecting openai\n",
            "  Downloading openai-0.14.0.tar.gz (40 kB)\n",
            "\u001b[?25l\r\u001b[K     |████████                        | 10 kB 22.1 MB/s eta 0:00:01\r\u001b[K     |████████████████                | 20 kB 13.2 MB/s eta 0:00:01\r\u001b[K     |████████████████████████▏       | 30 kB 8.1 MB/s eta 0:00:01\r\u001b[K     |████████████████████████████████| 40 kB 3.4 MB/s \n",
            "\u001b[?25hRequirement already satisfied: requests>=2.20 in /usr/local/lib/python3.7/dist-packages (from openai) (2.23.0)\n",
            "Requirement already satisfied: tqdm in /usr/local/lib/python3.7/dist-packages (from openai) (4.62.3)\n",
            "Requirement already satisfied: pandas>=1.2.3 in /usr/local/lib/python3.7/dist-packages (from openai) (1.3.5)\n",
            "Collecting pandas-stubs>=1.1.0.11\n",
            "  Downloading pandas_stubs-1.2.0.47-py3-none-any.whl (161 kB)\n",
            "\u001b[K     |████████████████████████████████| 161 kB 8.9 MB/s \n",
            "\u001b[?25hRequirement already satisfied: openpyxl>=3.0.7 in /usr/local/lib/python3.7/dist-packages (from openai) (3.0.9)\n",
            "Requirement already satisfied: et-xmlfile in /usr/local/lib/python3.7/dist-packages (from openpyxl>=3.0.7->openai) (1.1.0)\n",
            "Requirement already satisfied: python-dateutil>=2.7.3 in /usr/local/lib/python3.7/dist-packages (from pandas>=1.2.3->openai) (2.8.2)\n",
            "Requirement already satisfied: numpy>=1.17.3 in /usr/local/lib/python3.7/dist-packages (from pandas>=1.2.3->openai) (1.19.5)\n",
            "Requirement already satisfied: pytz>=2017.3 in /usr/local/lib/python3.7/dist-packages (from pandas>=1.2.3->openai) (2018.9)\n",
            "Requirement already satisfied: typing-extensions>=3.7.4.3 in /usr/local/lib/python3.7/dist-packages (from pandas-stubs>=1.1.0.11->openai) (3.10.0.2)\n",
            "Requirement already satisfied: six>=1.5 in /usr/local/lib/python3.7/dist-packages (from python-dateutil>=2.7.3->pandas>=1.2.3->openai) (1.15.0)\n",
            "Requirement already satisfied: idna<3,>=2.5 in /usr/local/lib/python3.7/dist-packages (from requests>=2.20->openai) (2.10)\n",
            "Requirement already satisfied: certifi>=2017.4.17 in /usr/local/lib/python3.7/dist-packages (from requests>=2.20->openai) (2021.10.8)\n",
            "Requirement already satisfied: urllib3!=1.25.0,!=1.25.1,<1.26,>=1.21.1 in /usr/local/lib/python3.7/dist-packages (from requests>=2.20->openai) (1.24.3)\n",
            "Requirement already satisfied: chardet<4,>=3.0.2 in /usr/local/lib/python3.7/dist-packages (from requests>=2.20->openai) (3.0.4)\n",
            "Building wheels for collected packages: openai\n",
            "  Building wheel for openai (setup.py) ... \u001b[?25l\u001b[?25hdone\n",
            "  Created wheel for openai: filename=openai-0.14.0-py3-none-any.whl size=49824 sha256=c4b366473278b1b7ff099f2d81f1d4f833f97a0930508d74d77ebcdfc6aa94a6\n",
            "  Stored in directory: /root/.cache/pip/wheels/45/5f/9e/6035f88eb6fc313fd26ddb4d4b65bfb6fa02d7e5a124160fe9\n",
            "Successfully built openai\n",
            "Installing collected packages: pandas-stubs, openai\n",
            "Successfully installed openai-0.14.0 pandas-stubs-1.2.0.47\n"
          ]
        },
        {
          "output_type": "display_data",
          "data": {
            "application/vnd.colab-display-data+json": {
              "pip_warning": {
                "packages": [
                  "pandas"
                ]
              }
            }
          },
          "metadata": {}
        }
      ]
    },
    {
      "cell_type": "code",
      "source": [
        "import os\n",
        "import openai"
      ],
      "metadata": {
        "id": "fMBfq3k6ywa4"
      },
      "execution_count": 1,
      "outputs": []
    },
    {
      "cell_type": "code",
      "source": [
        "# Load OpenAI API Key\n",
        "\n",
        "try:\n",
        "  # When in Colab\n",
        "  from google.colab import drive\n",
        "  drive.mount('/content/drive')\n",
        "  with open(\"/content/drive/My Drive/Colab Notebooks/GPT3_api\", 'r') as file:\n",
        "    openai.api_key = file.read().rstrip('\\n')\n",
        "except:\n",
        "  # When in local dev environment\n",
        "  # Load .env file from working directory\n",
        "  from dotenv import load_dotenv\n",
        "  load_dotenv()\n",
        "  API_KEY = os.getenv('PROJECT_API_KEY')\n",
        "  openai.api_key = os.getenv(\"OPENAI_API_KEY\")"
      ],
      "metadata": {
        "id": "uYHnb3_QyzYg",
        "colab": {
          "base_uri": "https://localhost:8080/"
        },
        "outputId": "d9ceb7c1-dc9e-414f-fa05-f0a46ad72c1e"
      },
      "execution_count": 2,
      "outputs": [
        {
          "output_type": "stream",
          "name": "stdout",
          "text": [
            "Drive already mounted at /content/drive; to attempt to forcibly remount, call drive.mount(\"/content/drive\", force_remount=True).\n"
          ]
        }
      ]
    },
    {
      "cell_type": "code",
      "source": [
        "# Test OpenAI API\n",
        "response = openai.Completion.create(engine=\"text-davinci-001\", prompt=\"Say this is a test\", max_tokens=6)\n",
        "print(response)"
      ],
      "metadata": {
        "colab": {
          "base_uri": "https://localhost:8080/"
        },
        "id": "R55jALEc9IiB",
        "outputId": "ccd142cb-59a9-4d81-c342-23eaa26d9ebf"
      },
      "execution_count": null,
      "outputs": [
        {
          "output_type": "stream",
          "name": "stdout",
          "text": [
            "{\n",
            "  \"choices\": [\n",
            "    {\n",
            "      \"finish_reason\": \"length\",\n",
            "      \"index\": 0,\n",
            "      \"logprobs\": null,\n",
            "      \"text\": \"\\n\\nThis is a test\"\n",
            "    }\n",
            "  ],\n",
            "  \"created\": 1643851983,\n",
            "  \"id\": \"cmpl-4XLHbIOcAnUetcqeNVahL64fz6ED3\",\n",
            "  \"model\": \"text-davinci:001\",\n",
            "  \"object\": \"text_completion\"\n",
            "}\n"
          ]
        }
      ]
    },
    {
      "cell_type": "code",
      "source": [
        ""
      ],
      "metadata": {
        "id": "LlQiyIz4NR7C"
      },
      "execution_count": null,
      "outputs": []
    }
  ]
}