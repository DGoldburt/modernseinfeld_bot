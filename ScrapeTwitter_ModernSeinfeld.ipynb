{
  "nbformat": 4,
  "nbformat_minor": 0,
  "metadata": {
    "colab": {
      "name": "ScrapeTwitter@ModernSeinfeld.ipynb",
      "provenance": [],
      "authorship_tag": "ABX9TyONq67wCotmS+lNk6GmVk0K"
    },
    "kernelspec": {
      "name": "python3",
      "display_name": "Python 3"
    },
    "language_info": {
      "name": "python"
    }
  },
  "cells": [
    {
      "cell_type": "code",
      "execution_count": 4,
      "metadata": {
        "colab": {
          "base_uri": "https://localhost:8080/"
        },
        "id": "waIBCB4NT9Qm",
        "outputId": "a02b04d9-d0b6-4db9-caea-42c98941e97d"
      },
      "outputs": [
        {
          "output_type": "stream",
          "name": "stdout",
          "text": [
            "\u001b[33m  WARNING: Did not find branch or tag 'origin/master', assuming revision or ref.\u001b[0m\n"
          ]
        }
      ],
      "source": [
        "!pip3 install -qq --user --upgrade git+https://github.com/twintproject/twint.git@origin/master#egg=twint\n",
        "!pip install -qq nest_asyncio"
      ]
    },
    {
      "cell_type": "code",
      "source": [
        "import twint\n",
        "\n",
        "# This solves the \"This Event Loop is Already Running\" issue\n",
        "import nest_asyncio\n",
        "nest_asyncio.apply()\n",
        "\n",
        "# Instantiate and configure the twint-object\n",
        "c = twint.Config()\n",
        "c.Username = 'SeinfeldToday'\n",
        "c.Store_object = True\n",
        "c.Pandas = True\n",
        "c.Limit = 10\n",
        "c.Count = True\n",
        "c.Hide_output = True\n",
        "\n",
        "# Run search\n",
        "twint.run.Search(c)"
      ],
      "metadata": {
        "colab": {
          "base_uri": "https://localhost:8080/"
        },
        "id": "oP1Xcl7AUabf",
        "outputId": "ce74577a-6b3f-4211-8853-8802ab6a069f"
      },
      "execution_count": 3,
      "outputs": [
        {
          "output_type": "stream",
          "name": "stdout",
          "text": [
            "[+] Finished: Successfully collected 20 Tweets from @SeinfeldToday.\n"
          ]
        }
      ]
    },
    {
      "cell_type": "code",
      "source": [
        "!pip install snscrape\n"
      ],
      "metadata": {
        "colab": {
          "base_uri": "https://localhost:8080/"
        },
        "id": "rOIJbz3A9xn4",
        "outputId": "6c278c04-b3e2-48ef-b2ab-8267bb263426"
      },
      "execution_count": 4,
      "outputs": [
        {
          "output_type": "stream",
          "name": "stdout",
          "text": [
            "Collecting snscrape\n",
            "  Downloading snscrape-0.3.4-py3-none-any.whl (35 kB)\n",
            "Requirement already satisfied: beautifulsoup4 in /usr/local/lib/python3.7/dist-packages (from snscrape) (4.6.3)\n",
            "Requirement already satisfied: lxml in /usr/local/lib/python3.7/dist-packages (from snscrape) (4.2.6)\n",
            "Requirement already satisfied: requests[socks] in /usr/local/lib/python3.7/dist-packages (from snscrape) (2.23.0)\n",
            "Requirement already satisfied: chardet<4,>=3.0.2 in /usr/local/lib/python3.7/dist-packages (from requests[socks]->snscrape) (3.0.4)\n",
            "Requirement already satisfied: idna<3,>=2.5 in /usr/local/lib/python3.7/dist-packages (from requests[socks]->snscrape) (2.10)\n",
            "Requirement already satisfied: certifi>=2017.4.17 in /usr/local/lib/python3.7/dist-packages (from requests[socks]->snscrape) (2021.10.8)\n",
            "Requirement already satisfied: urllib3!=1.25.0,!=1.25.1,<1.26,>=1.21.1 in /usr/local/lib/python3.7/dist-packages (from requests[socks]->snscrape) (1.24.3)\n",
            "Requirement already satisfied: PySocks!=1.5.7,>=1.5.6 in /usr/local/lib/python3.7/dist-packages (from requests[socks]->snscrape) (1.7.1)\n",
            "Installing collected packages: snscrape\n",
            "Successfully installed snscrape-0.3.4\n"
          ]
        }
      ]
    },
    {
      "cell_type": "code",
      "source": [
        "snscrape twitter-user SeinfeldToday"
      ],
      "metadata": {
        "colab": {
          "base_uri": "https://localhost:8080/",
          "height": 130
        },
        "id": "nsXW1h2S_WN9",
        "outputId": "181cd8b9-4bec-4a87-feb8-6890fe28d4d0"
      },
      "execution_count": 5,
      "outputs": [
        {
          "output_type": "error",
          "ename": "SyntaxError",
          "evalue": "ignored",
          "traceback": [
            "\u001b[0;36m  File \u001b[0;32m\"<ipython-input-5-fb3fd00940ed>\"\u001b[0;36m, line \u001b[0;32m1\u001b[0m\n\u001b[0;31m    snscrape twitter-user SeinfeldToday\u001b[0m\n\u001b[0m                   ^\u001b[0m\n\u001b[0;31mSyntaxError\u001b[0m\u001b[0;31m:\u001b[0m invalid syntax\n"
          ]
        }
      ]
    },
    {
      "cell_type": "code",
      "source": [
        "# Quick check\n",
        "twint.storage.panda.Tweets_df.count()"
      ],
      "metadata": {
        "colab": {
          "base_uri": "https://localhost:8080/"
        },
        "id": "B5FtRDeHYH7O",
        "outputId": "9dc8ba7e-17c8-415a-c548-0134ca3352c0"
      },
      "execution_count": 36,
      "outputs": [
        {
          "output_type": "execute_result",
          "data": {
            "text/plain": [
              "id                 60\n",
              "conversation_id    60\n",
              "created_at         60\n",
              "date               60\n",
              "timezone           60\n",
              "place              60\n",
              "tweet              60\n",
              "language           60\n",
              "hashtags           60\n",
              "cashtags           60\n",
              "user_id            60\n",
              "user_id_str        60\n",
              "username           60\n",
              "name               60\n",
              "day                60\n",
              "hour               60\n",
              "link               60\n",
              "urls               60\n",
              "photos             60\n",
              "video              60\n",
              "thumbnail          60\n",
              "retweet            60\n",
              "nlikes             60\n",
              "nreplies           60\n",
              "nretweets          60\n",
              "quote_url          60\n",
              "search             60\n",
              "near               60\n",
              "geo                60\n",
              "source             60\n",
              "user_rt_id         60\n",
              "user_rt            60\n",
              "retweet_id         60\n",
              "reply_to           60\n",
              "retweet_date       60\n",
              "translate          60\n",
              "trans_src          60\n",
              "trans_dest         60\n",
              "dtype: int64"
            ]
          },
          "metadata": {},
          "execution_count": 36
        }
      ]
    }
  ]
}