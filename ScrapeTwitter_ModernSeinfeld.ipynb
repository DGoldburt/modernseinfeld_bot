{
 "cells": [
  {
   "cell_type": "code",
   "execution_count": 1,
   "metadata": {
    "colab": {
     "base_uri": "https://localhost:8080/"
    },
    "id": "waIBCB4NT9Qm",
    "outputId": "a02b04d9-d0b6-4db9-caea-42c98941e97d"
   },
   "outputs": [],
   "source": [
    "!pip3 install -qq --user --upgrade git+https://github.com/twintproject/twint.git@origin/master#egg=twint\n",
    "!pip install -qq nest_asyncio"
   ]
  },
  {
   "cell_type": "code",
   "execution_count": 7,
   "metadata": {
    "colab": {
     "base_uri": "https://localhost:8080/"
    },
    "id": "oP1Xcl7AUabf",
    "outputId": "ce74577a-6b3f-4211-8853-8802ab6a069f"
   },
   "outputs": [
    {
     "name": "stdout",
     "output_type": "stream",
     "text": [
      "[!] No more data! Scraping will stop now.\n",
      "found 0 deleted tweets in this search.\n",
      "[+] Finished: Successfully collected 493 Tweets from @SeinfeldToday.\n"
     ]
    }
   ],
   "source": [
    "import twint\n",
    "# If you get a \"twint not found\" message, try restarting the runtime / kernel. \n",
    "# This typically happens just after you pip install\n",
    "\n",
    "# If you get [!] no more data scraping will stop, and twint didn't scrape all the expected tweets\n",
    "# then uncomment line 92 in the url.py file found here print(twint.__path__)\n",
    "#('query_source', 'typed_query')\n",
    "\n",
    "# This solves the \"This Event Loop is Already Running\" issue\n",
    "import nest_asyncio\n",
    "nest_asyncio.apply()\n",
    "\n",
    "# Instantiate and configure the twint-object\n",
    "c = twint.Config()\n",
    "c.Username = 'SeinfeldToday'\n",
    "c.Store_object = True\n",
    "c.Pandas = True\n",
    "c.Limit = 500\n",
    "c.Count = True\n",
    "c.Hide_output = True\n",
    "\n",
    "# Run search\n",
    "twint.run.Search(c)"
   ]
  },
  {
   "cell_type": "code",
   "execution_count": 8,
   "metadata": {
    "colab": {
     "base_uri": "https://localhost:8080/"
    },
    "id": "B5FtRDeHYH7O",
    "outputId": "9dc8ba7e-17c8-415a-c548-0134ca3352c0"
   },
   "outputs": [
    {
     "data": {
      "text/plain": [
       "id                 493\n",
       "conversation_id    493\n",
       "created_at         493\n",
       "date               493\n",
       "timezone           493\n",
       "place              493\n",
       "tweet              493\n",
       "language           493\n",
       "hashtags           493\n",
       "cashtags           493\n",
       "user_id            493\n",
       "user_id_str        493\n",
       "username           493\n",
       "name               493\n",
       "day                493\n",
       "hour               493\n",
       "link               493\n",
       "urls               493\n",
       "photos             493\n",
       "video              493\n",
       "thumbnail          493\n",
       "retweet            493\n",
       "nlikes             493\n",
       "nreplies           493\n",
       "nretweets          493\n",
       "quote_url          493\n",
       "search             493\n",
       "near               493\n",
       "geo                493\n",
       "source             493\n",
       "user_rt_id         493\n",
       "user_rt            493\n",
       "retweet_id         493\n",
       "reply_to           493\n",
       "retweet_date       493\n",
       "translate          493\n",
       "trans_src          493\n",
       "trans_dest         493\n",
       "dtype: int64"
      ]
     },
     "execution_count": 8,
     "metadata": {},
     "output_type": "execute_result"
    }
   ],
   "source": [
    "# Quick check\n",
    "twint.storage.panda.Tweets_df.count()"
   ]
  },
  {
   "cell_type": "code",
   "execution_count": null,
   "metadata": {},
   "outputs": [],
   "source": []
  }
 ],
 "metadata": {
  "colab": {
   "authorship_tag": "ABX9TyONq67wCotmS+lNk6GmVk0K",
   "name": "ScrapeTwitter@ModernSeinfeld.ipynb",
   "provenance": []
  },
  "kernelspec": {
   "display_name": "Python 3",
   "language": "python",
   "name": "python3"
  },
  "language_info": {
   "codemirror_mode": {
    "name": "ipython",
    "version": 3
   },
   "file_extension": ".py",
   "mimetype": "text/x-python",
   "name": "python",
   "nbconvert_exporter": "python",
   "pygments_lexer": "ipython3",
   "version": "3.9.5"
  }
 },
 "nbformat": 4,
 "nbformat_minor": 1
}
