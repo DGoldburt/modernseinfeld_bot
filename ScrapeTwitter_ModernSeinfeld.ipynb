{
 "cells": [
  {
   "cell_type": "code",
   "execution_count": 1,
   "metadata": {
    "colab": {
     "base_uri": "https://localhost:8080/"
    },
    "id": "waIBCB4NT9Qm",
    "outputId": "a02b04d9-d0b6-4db9-caea-42c98941e97d"
   },
   "outputs": [],
   "source": [
    "!pip3 install -qq --user --upgrade git+https://github.com/twintproject/twint.git@origin/master#egg=twint\n",
    "!pip install -qq nest_asyncio"
   ]
  },
  {
   "cell_type": "code",
   "execution_count": 10,
   "metadata": {
    "colab": {
     "base_uri": "https://localhost:8080/"
    },
    "id": "oP1Xcl7AUabf",
    "outputId": "ce74577a-6b3f-4211-8853-8802ab6a069f"
   },
   "outputs": [
    {
     "name": "stdout",
     "output_type": "stream",
     "text": [
      "[!] No more data! Scraping will stop now.\n",
      "found 0 deleted tweets in this search.\n",
      "[+] Finished: Successfully collected 493 Tweets from @SeinfeldToday.\n"
     ]
    }
   ],
   "source": [
    "import twint\n",
    "# If you get a \"twint not found\" message, try restarting the runtime / kernel. \n",
    "# This typically happens just after you pip install\n",
    "\n",
    "# If you get [!] no more data scraping will stop, and twint didn't scrape all the expected tweets\n",
    "# then uncomment line 92 in the url.py file found here print(twint.__path__)\n",
    "#('query_source', 'typed_query')\n",
    "\n",
    "# This solves the \"This Event Loop is Already Running\" issue\n",
    "import nest_asyncio\n",
    "nest_asyncio.apply()\n",
    "\n",
    "# Instantiate and configure the twint-object\n",
    "c = twint.Config()\n",
    "c.Username = 'SeinfeldToday'\n",
    "c.Store_object = True\n",
    "c.Pandas = True\n",
    "c.Limit = 500\n",
    "c.Count = True\n",
    "c.Hide_output = True\n",
    "\n",
    "# Run search\n",
    "twint.run.Search(c)"
   ]
  },
  {
   "cell_type": "code",
   "execution_count": 20,
   "metadata": {
    "colab": {
     "base_uri": "https://localhost:8080/"
    },
    "id": "B5FtRDeHYH7O",
    "outputId": "9dc8ba7e-17c8-415a-c548-0134ca3352c0"
   },
   "outputs": [
    {
     "name": "stdout",
     "output_type": "stream",
     "text": [
      "id                 493\n",
      "conversation_id    493\n",
      "created_at         493\n",
      "date               493\n",
      "timezone           493\n",
      "place              493\n",
      "tweet              493\n",
      "language           493\n",
      "hashtags           493\n",
      "cashtags           493\n",
      "user_id            493\n",
      "user_id_str        493\n",
      "username           493\n",
      "name               493\n",
      "day                493\n",
      "hour               493\n",
      "link               493\n",
      "urls               493\n",
      "photos             493\n",
      "video              493\n",
      "thumbnail          493\n",
      "retweet            493\n",
      "nlikes             493\n",
      "nreplies           493\n",
      "nretweets          493\n",
      "quote_url          493\n",
      "search             493\n",
      "near               493\n",
      "geo                493\n",
      "source             493\n",
      "user_rt_id         493\n",
      "user_rt            493\n",
      "retweet_id         493\n",
      "reply_to           493\n",
      "retweet_date       493\n",
      "translate          493\n",
      "trans_src          493\n",
      "trans_dest         493\n",
      "dtype: int64\n",
      "                   id     conversation_id    created_at                 date  \\\n",
      "0  651426756247728131  651426756247728131  1.444147e+12  2015-10-06 12:00:16   \n",
      "1  644919061311291392  644919061311291392  1.442596e+12  2015-09-18 13:01:00   \n",
      "2  636953445451362304  636953445451362304  1.440697e+12  2015-08-27 13:28:30   \n",
      "3  626078978906943488  626078978906943488  1.438104e+12  2015-07-28 13:17:15   \n",
      "4  618848531244126209  618848531244126209  1.436380e+12  2015-07-08 14:26:02   \n",
      "\n",
      "  timezone place                                              tweet language  \\\n",
      "0    -0400        Modern Seinfeld co-author @joshgondelman has c...       en   \n",
      "1    -0400        George's GF wants a \"no phones at dinner\" rule...       en   \n",
      "2    -0400        After her fuck buddy texts her that she should...       en   \n",
      "3    -0400        Jerry refuses to go to a Cash Only diner. J:\"T...       en   \n",
      "4    -0400        When George falls for a Twitter bot, Kramer cl...       en   \n",
      "\n",
      "  hashtags cashtags  ...  geo source user_rt_id user_rt  retweet_id reply_to  \\\n",
      "0       []       []  ...                                                  []   \n",
      "1       []       []  ...                                                  []   \n",
      "2       []       []  ...                                                  []   \n",
      "3       []       []  ...                                                  []   \n",
      "4       []       []  ...                                                  []   \n",
      "\n",
      "  retweet_date translate trans_src  trans_dest  \n",
      "0                                               \n",
      "1                                               \n",
      "2                                               \n",
      "3                                               \n",
      "4                                               \n",
      "\n",
      "[5 rows x 38 columns]\n"
     ]
    }
   ],
   "source": [
    "# Quick check\n",
    "tweets_df = twint.storage.panda.Tweets_df\n",
    "print(tweets_df.count())\n",
    "print(tweets_df.head(5))\n",
    "\n",
    "# Write out to file, in the working directory from which your jupyter notebook was launched\n",
    "# TODO write to Google Drive if working in Colaboratory\n",
    "tweets_df.to_csv('./data/SeinfeldToday_tweets.csv')"
   ]
  },
  {
   "cell_type": "code",
   "execution_count": null,
   "metadata": {},
   "outputs": [],
   "source": []
  }
 ],
 "metadata": {
  "colab": {
   "authorship_tag": "ABX9TyONq67wCotmS+lNk6GmVk0K",
   "name": "ScrapeTwitter@ModernSeinfeld.ipynb",
   "provenance": []
  },
  "kernelspec": {
   "display_name": "Python 3",
   "language": "python",
   "name": "python3"
  },
  "language_info": {
   "codemirror_mode": {
    "name": "ipython",
    "version": 3
   },
   "file_extension": ".py",
   "mimetype": "text/x-python",
   "name": "python",
   "nbconvert_exporter": "python",
   "pygments_lexer": "ipython3",
   "version": "3.9.5"
  }
 },
 "nbformat": 4,
 "nbformat_minor": 1
}
